{
 "cells": [
  {
   "cell_type": "code",
   "execution_count": 10,
   "metadata": {},
   "outputs": [],
   "source": [
    "def jump(nums):\n",
    "    jumps = 0\n",
    "    pointer1, pointer2 = 0,0\n",
    "\n",
    "    while pointer2 < len(nums) - 1:\n",
    "        farthest = 0\n",
    "        for i in range(pointer1, pointer2+1):\n",
    "            farthest = max(farthest, i + nums[i])\n",
    "        pointer1 = pointer2 + 1\n",
    "        pointer2 = farthest\n",
    "        jumps += 1\n",
    "    return jumps\n"
   ]
  }
 ],
 "metadata": {
  "kernelspec": {
   "display_name": "Python 3",
   "language": "python",
   "name": "python3"
  },
  "language_info": {
   "codemirror_mode": {
    "name": "ipython",
    "version": 3
   },
   "file_extension": ".py",
   "mimetype": "text/x-python",
   "name": "python",
   "nbconvert_exporter": "python",
   "pygments_lexer": "ipython3",
   "version": "3.11.3"
  },
  "orig_nbformat": 4
 },
 "nbformat": 4,
 "nbformat_minor": 2
}
