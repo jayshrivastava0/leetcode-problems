{
 "cells": [
  {
   "cell_type": "markdown",
   "metadata": {},
   "source": [
    "# 39. Combination Sum\n",
    "\n",
    "Given an array of distinct integers candidates and a target integer target, return a list of all unique combinations of candidates where the chosen numbers sum to target. You may return the combinations in any order.\n",
    "\n",
    "The same number may be chosen from candidates an unlimited number of times. Two combinations are unique if the \n",
    "frequency\n",
    " of at least one of the chosen numbers is different.\n",
    "\n",
    "The test cases are generated such that the number of unique combinations that sum up to target is less than 150 combinations for the given input.\n",
    "\n",
    " \n",
    "\n",
    "Example 1:\n",
    "\n",
    "Input: candidates = [2,3,6,7], target = 7\n",
    "Output: [[2,2,3],[7]]\n",
    "Explanation:\n",
    "2 and 3 are candidates, and 2 + 2 + 3 = 7. Note that 2 can be used multiple times.\n",
    "7 is a candidate, and 7 = 7.\n",
    "These are the only two combinations.\n",
    "Example 2:\n",
    "\n",
    "Input: candidates = [2,3,5], target = 8\n",
    "Output: [[2,2,2,2],[2,3,3],[3,5]]\n",
    "Example 3:\n",
    "\n",
    "Input: candidates = [2], target = 1\n",
    "Output: []\n",
    " \n",
    "\n",
    "Constraints:\n",
    "\n",
    "1 <= candidates.length <= 30\n",
    "2 <= candidates[i] <= 40\n",
    "All elements of candidates are distinct.\n",
    "1 <= target <= 40"
   ]
  },
  {
   "cell_type": "code",
   "execution_count": 33,
   "metadata": {},
   "outputs": [],
   "source": [
    "def combinationSum(candidates: list[int], target: int) -> list[list[int]]:\n",
    "    result = []\n",
    "    def recursive_sum(choosen_idx, cur_sum, combinations):\n",
    "        if cur_sum == target:\n",
    "            result.append(combinations.copy())\n",
    "            return None\n",
    "        if choosen_idx >= len(candidates) or cur_sum > target:\n",
    "            return None\n",
    "        combinations.append(candidates[choosen_idx])\n",
    "        recursive_sum(choosen_idx, cur_sum + candidates[choosen_idx], combinations)\n",
    "        combinations.pop()\n",
    "        recursive_sum(choosen_idx+1, cur_sum, combinations)\n",
    "\n",
    "        \n",
    "    recursive_sum(0, 0, [])\n",
    "    return result"
   ]
  },
  {
   "cell_type": "code",
   "execution_count": 34,
   "metadata": {},
   "outputs": [
    {
     "data": {
      "text/plain": [
       "[[2, 2, 3], [7]]"
      ]
     },
     "execution_count": 34,
     "metadata": {},
     "output_type": "execute_result"
    }
   ],
   "source": [
    "nums = [2,3,6,7]\n",
    "target = 7\n",
    "combinationSum(nums, target)"
   ]
  },
  {
   "cell_type": "code",
   "execution_count": null,
   "metadata": {},
   "outputs": [],
   "source": []
  }
 ],
 "metadata": {
  "kernelspec": {
   "display_name": "Python 3",
   "language": "python",
   "name": "python3"
  },
  "language_info": {
   "codemirror_mode": {
    "name": "ipython",
    "version": 3
   },
   "file_extension": ".py",
   "mimetype": "text/x-python",
   "name": "python",
   "nbconvert_exporter": "python",
   "pygments_lexer": "ipython3",
   "version": "3.11.8"
  }
 },
 "nbformat": 4,
 "nbformat_minor": 2
}
