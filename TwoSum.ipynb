{
 "cells": [
  {
   "cell_type": "code",
   "execution_count": 8,
   "metadata": {},
   "outputs": [],
   "source": [
    "def Twosum(nums:list, target:int) -> list:\n",
    "    \n",
    "    ## making dictionary to store seen values\n",
    "    seen = {}\n",
    "    res=[]\n",
    "    # traversing the array\n",
    "    for i in range(len(nums)):\n",
    "        ## optimize if only positive values only in nums\n",
    "        diff = target - nums[i]\n",
    "        ## check if the value was seen\n",
    "        if diff in seen:\n",
    "            ## return index of found and looked numbers\n",
    "            # Assuming seen is a dictionary and diff is a key in seen\n",
    "            res.append([seen[diff], i])\n",
    "\n",
    "        ## if not seen then add the value in seen\n",
    "        ## key - actual value\n",
    "        ## value - index of the looked value\n",
    "        else:\n",
    "            seen[nums[i]] = i\n",
    "    ## if nothing found then return empty list\n",
    "    return res"
   ]
  },
  {
   "cell_type": "code",
   "execution_count": 9,
   "metadata": {},
   "outputs": [
    {
     "data": {
      "text/plain": [
       "[[0, 2], [0, 3], [4, 5]]"
      ]
     },
     "execution_count": 9,
     "metadata": {},
     "output_type": "execute_result"
    }
   ],
   "source": [
    "nums = [1,2,3,3,4,0]\n",
    "target = 4\n",
    "Twosum(nums, target)"
   ]
  },
  {
   "cell_type": "code",
   "execution_count": null,
   "metadata": {},
   "outputs": [],
   "source": []
  }
 ],
 "metadata": {
  "kernelspec": {
   "display_name": "Python 3",
   "language": "python",
   "name": "python3"
  },
  "language_info": {
   "codemirror_mode": {
    "name": "ipython",
    "version": 3
   },
   "file_extension": ".py",
   "mimetype": "text/x-python",
   "name": "python",
   "nbconvert_exporter": "python",
   "pygments_lexer": "ipython3",
   "version": "3.12.0"
  }
 },
 "nbformat": 4,
 "nbformat_minor": 2
}
