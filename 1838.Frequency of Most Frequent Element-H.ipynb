{
 "cells": [
  {
   "cell_type": "markdown",
   "metadata": {},
   "source": [
    "## 1838) Frequency of Most Frequent Element\n",
    "The frequency of an element is the number of times it occurs in an array.\n",
    "\n",
    "You are given an integer array nums and an integer k. In one operation, you can choose an index of nums and increment the element at that index by 1.\n",
    "\n",
    "Return the maximum possible frequency of an element after performing at most k operations.\n",
    "\n",
    " \n",
    "\n",
    "Example 1:\n",
    "\n",
    "Input: nums = [1,2,4], k = 5\n",
    "Output: 3\n",
    "Explanation: Increment the first element three times and the second element two times to make nums = [4,4,4].\n",
    "4 has a frequency of 3.\n",
    "Example 2:\n",
    "\n",
    "Input: nums = [1,4,8,13], k = 5\n",
    "Output: 2\n",
    "Explanation: There are multiple optimal solutions:\n",
    "- Increment the first element three times to make nums = [4,4,8,13]. 4 has a frequency of 2.\n",
    "- Increment the second element four times to make nums = [1,8,8,13]. 8 has a frequency of 2.\n",
    "- Increment the third element five times to make nums = [1,4,13,13]. 13 has a frequency of 2.\n",
    "Example 3:\n",
    "\n",
    "Input: nums = [3,9,6], k = 2\n",
    "Output: 1\n",
    " \n",
    "\n",
    "Constraints:\n",
    "\n",
    "1 <= nums.length <= 105\n",
    "1 <= nums[i] <= 105\n",
    "1 <= k <= 105"
   ]
  },
  {
   "cell_type": "code",
   "execution_count": 91,
   "metadata": {},
   "outputs": [],
   "source": [
    "nums = [1,2,4]\n",
    "k = 5"
   ]
  },
  {
   "cell_type": "markdown",
   "metadata": {},
   "source": [
    "## Brute Force Approach\n",
    "Time Complexity - O(n**2)"
   ]
  },
  {
   "cell_type": "code",
   "execution_count": 92,
   "metadata": {},
   "outputs": [],
   "source": [
    "def maxFrequency(nums: list[int], k: int) -> int:\n",
    "    frequency_dict = {}\n",
    "    # traversing the num\n",
    "    for i in range(len(nums)):\n",
    "        # adding the all the possible number of k\n",
    "        for j in range(k+1):\n",
    "            # incremented number == after adding the k what the number would be\n",
    "            incremented_number = nums[i]+j\n",
    "            # now checking if the incremented number is equal to any other number in the left over list\n",
    "            for nums_left in range(i+1, len(nums)):\n",
    "                # actual numver is left over numbers one at a time\n",
    "                actual_number = nums[nums_left]\n",
    "                # if invcemented number matches with any other left over numbers\n",
    "                # in the list then add it to the dictionary, with key as the actual number that it matched with and\n",
    "                # value as the frequency, so if in future if something want to get incremented again, it can.\n",
    "                if incremented_number == actual_number:\n",
    "                    # instializing it to 2 because the incremented number is equal to actual number in the array\n",
    "                    # therefore whenever this equation gets satisfied there are two same number, meaning a number appearing twice.\n",
    "                    # meaning frequency is 2.\n",
    "                    if frequency_dict.get(actual_number) == None:\n",
    "                        frequency_dict[actual_number] = 2\n",
    "                    else:\n",
    "                        frequency_dict[actual_number] += 1\n",
    "                    # print(f\"the incremented number {incremented_number} at index {i}, number {nums[i]}, with increment of {j} matched with this number {nums[nums_left]}\")\n",
    "    \n",
    "    print(max(frequency_dict.values()))\n",
    "    "
   ]
  },
  {
   "cell_type": "code",
   "execution_count": 93,
   "metadata": {},
   "outputs": [
    {
     "name": "stdout",
     "output_type": "stream",
     "text": [
      "3\n"
     ]
    }
   ],
   "source": [
    "maxFrequency(nums, k)"
   ]
  },
  {
   "cell_type": "markdown",
   "metadata": {},
   "source": [
    "Now what we can do to make an optimal approach is to use this given number as a budget and solve.\n",
    "\n",
    "First and foremost we will need an sorted array, and two pointers.\n",
    "\n",
    "Reason for sorted array is - let's say i have 8 in the left and 158 in the rightmost part of an array, \n",
    "given if k is only 10, even if i add my whole budget of 10 to 8, i will not be able to make 158. So there's no point in looking there.\n",
    "\n",
    "But let's say if there is an sorted array, and i have a number 154, this will now automatically come near 158, so by sorting the array i can concentrate on smaller problem. \n",
    "\n",
    "DIVIDE AND RULE\n",
    "\n",
    "\n",
    "Now the two pointers will command my attention.\n",
    "We'll make a sliding window with these two pointers and figure out if i spent my whole budget of 10 in this window what is the most frequency i can possibly get.\n",
    "\n",
    "\n"
   ]
  },
  {
   "cell_type": "code",
   "execution_count": null,
   "metadata": {},
   "outputs": [],
   "source": []
  },
  {
   "cell_type": "code",
   "execution_count": null,
   "metadata": {},
   "outputs": [],
   "source": []
  }
 ],
 "metadata": {
  "kernelspec": {
   "display_name": "Python 3",
   "language": "python",
   "name": "python3"
  },
  "language_info": {
   "codemirror_mode": {
    "name": "ipython",
    "version": 3
   },
   "file_extension": ".py",
   "mimetype": "text/x-python",
   "name": "python",
   "nbconvert_exporter": "python",
   "pygments_lexer": "ipython3",
   "version": "3.12.0"
  }
 },
 "nbformat": 4,
 "nbformat_minor": 2
}
