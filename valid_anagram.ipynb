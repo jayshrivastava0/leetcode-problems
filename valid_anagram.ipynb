{
 "cells": [
  {
   "cell_type": "markdown",
   "metadata": {},
   "source": [
    "# 242. Valid Anagram\n",
    "\n",
    "Given two strings s and t, return true if t is an anagram of s, and false otherwise.\n",
    "\n",
    "An Anagram is a word or phrase formed by rearranging the letters of a different word or phrase, typically using all the original letters exactly once.\n",
    "\n",
    " \n",
    "\n",
    "Example 1:\n",
    "\n",
    "Input: s = \"anagram\", t = \"nagaram\"\n",
    "Output: true\n",
    "Example 2:\n",
    "\n",
    "Input: s = \"rat\", t = \"car\"\n",
    "Output: false\n",
    " \n",
    "\n",
    "Constraints:\n",
    "\n",
    "1 <= s.length, t.length <= 5 * 104\n",
    "s and t consist of lowercase English letters.\n",
    " \n",
    "\n",
    "Follow up: What if the inputs contain Unicode characters? How would you adapt your solution to such a case?"
   ]
  },
  {
   "cell_type": "code",
   "execution_count": 3,
   "metadata": {},
   "outputs": [],
   "source": [
    "from collections import Counter\n",
    "class Solution:\n",
    "    def isAnagram(self, s: str, t: str) -> bool:\n",
    "        ## In both strings the letter should appear exactly once.\n",
    "        # arrangement doesn't matter\n",
    "        ## But length matters, if they are anagram the length of the original string matters.\n",
    "        # they should be exactly of same length.\n",
    "\n",
    "        ## I tried to basically implement counter(s) == counter(t) in very long manner so, i found that we could just this\n",
    "        # if set(s) == set(t) and len(s) == len(t):\n",
    "        #     return True \n",
    "        # return False\n",
    "        return Counter(s) == Counter(t)\n",
    "        \n",
    "        "
   ]
  },
  {
   "cell_type": "code",
   "execution_count": 6,
   "metadata": {},
   "outputs": [
    {
     "data": {
      "text/plain": [
       "True"
      ]
     },
     "execution_count": 6,
     "metadata": {},
     "output_type": "execute_result"
    }
   ],
   "source": [
    "s = \"aacc\"\n",
    "t = \"ccac\"\n",
    "isAnagram(s,t)"
   ]
  },
  {
   "cell_type": "code",
   "execution_count": null,
   "metadata": {},
   "outputs": [],
   "source": []
  }
 ],
 "metadata": {
  "kernelspec": {
   "display_name": "Python 3",
   "language": "python",
   "name": "python3"
  },
  "language_info": {
   "codemirror_mode": {
    "name": "ipython",
    "version": 3
   },
   "file_extension": ".py",
   "mimetype": "text/x-python",
   "name": "python",
   "nbconvert_exporter": "python",
   "pygments_lexer": "ipython3",
   "version": "3.12.0"
  }
 },
 "nbformat": 4,
 "nbformat_minor": 2
}
