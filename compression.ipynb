{
 "cells": [
  {
   "cell_type": "code",
   "execution_count": 160,
   "metadata": {},
   "outputs": [],
   "source": [
    "def compression(s):\n",
    "\n",
    "    array = [0]*26\n",
    "    l, r = 0, 0\n",
    "    string = \"\"\n",
    "    while r < len(s)-1:\n",
    "        if s[l].isnumeric() == False:\n",
    "            r += 1\n",
    "        while s[r].isnumeric() == True:\n",
    "            if r == len(s)-1:\n",
    "                r += 1\n",
    "                break\n",
    "            # print(\"\\tr\",r)\n",
    "            r += 1\n",
    "        # print(s[l+1:r:])\n",
    "        number = int(s[l+1:r:])\n",
    "        # if array[ord(s[l]) - ord('a')] :\n",
    "        array[ord(s[l]) - ord('a')] += number\n",
    "        l = r\n",
    "        # print(array)\n",
    "    \n",
    "    # for i in range(len(array)):\n",
    "    #     if array[i] != 0:\n",
    "    #         print(chr(i + ord(\"a\")), array[i])\n",
    "    #         string += string.join(chr(i + ord(\"a\")))\n",
    "    #         string += string.join(str(array[i]))\n",
    "        \n",
    "    result = \"\"\n",
    "    for i in range(len(array)):\n",
    "        if array[i] != 0:\n",
    "            result += chr(i + ord(\"a\")) + str(array[i])\n",
    "    print(result)\n"
   ]
  },
  {
   "cell_type": "code",
   "execution_count": 161,
   "metadata": {},
   "outputs": [
    {
     "name": "stdout",
     "output_type": "stream",
     "text": [
      "a12b56c1\n"
     ]
    }
   ],
   "source": [
    "s = 'a12b56c1'\n",
    "compression(s)"
   ]
  },
  {
   "cell_type": "code",
   "execution_count": null,
   "metadata": {},
   "outputs": [],
   "source": []
  },
  {
   "cell_type": "code",
   "execution_count": null,
   "metadata": {},
   "outputs": [],
   "source": []
  }
 ],
 "metadata": {
  "kernelspec": {
   "display_name": "Python 3",
   "language": "python",
   "name": "python3"
  },
  "language_info": {
   "codemirror_mode": {
    "name": "ipython",
    "version": 3
   },
   "file_extension": ".py",
   "mimetype": "text/x-python",
   "name": "python",
   "nbconvert_exporter": "python",
   "pygments_lexer": "ipython3",
   "version": "3.12.0"
  }
 },
 "nbformat": 4,
 "nbformat_minor": 2
}
