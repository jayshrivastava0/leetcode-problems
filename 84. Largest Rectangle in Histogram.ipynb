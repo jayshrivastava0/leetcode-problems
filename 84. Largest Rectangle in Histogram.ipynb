{
 "cells": [
  {
   "cell_type": "markdown",
   "metadata": {},
   "source": [
    "# 84. Largest Rectangle in Histogram\n",
    "\n",
    "Given an array of integers heights representing the histogram's bar height where the width of each bar is 1, return the area of the largest rectangle in the histogram.\n",
    "\n",
    " \n",
    "\n",
    "Example 1:\n",
    "\n",
    "\n",
    "Input: heights = [2,1,5,6,2,3]\n",
    "Output: 10\n",
    "Explanation: The above is a histogram where width of each bar is 1.\n",
    "The largest rectangle is shown in the red area, which has an area = 10 units.\n",
    "Example 2:\n",
    "\n",
    "\n",
    "Input: heights = [2,4]\n",
    "Output: 4\n",
    " \n",
    "\n",
    "Constraints:\n",
    "\n",
    "1 <= heights.length <= 105\n",
    "0 <= heights[i] <= 104"
   ]
  },
  {
   "cell_type": "code",
   "execution_count": 5,
   "metadata": {},
   "outputs": [],
   "source": [
    "def largestRectangleArea(heights: list[int]) -> int:\n",
    "    right_max = []\n",
    "    left_max = []\n",
    "\n",
    "    # making right_max stack\n",
    "    rm_result = [0]*(len(heights))\n",
    "    for i in range(len(heights)):\n",
    "        while right_max and (right_max[-1] < heights[i]):\n",
    "            right_max.pop()\n",
    "        ## if stack is empty\n",
    "        if not right_max:\n",
    "            rm_result[i] = -1\n",
    "        else:\n",
    "            rm_result[i] = right_max[-1]\n",
    "        right_max.append(heights[i])\n",
    "\n",
    "    ## making left max stack they will be condensed into one loop.\n",
    "    lt_result = [0]*(len(heights))\n",
    "    for i in range(len(heights)-1,-1,-1):\n",
    "        while left_max and (left_max[-1] < heights[i]):\n",
    "            left_max.pop()\n",
    "        ## if stack is empty\n",
    "        if not left_max:\n",
    "            lt_result[i] = -1\n",
    "        else:\n",
    "            lt_result[i] = left_max[-1]\n",
    "        left_max.append(heights[i])\n",
    "\n",
    "\n",
    "\n",
    "    print(lt_result)\n",
    "    print(rm_result)\n",
    "\n",
    "    for i in range(heights):\n",
    "        other_max = max(right_max[i], left_max[i])\n",
    "        # index for other min corners\n",
    "        if other_max > heights[i]:\n",
    "            heights[i]*\n",
    "            \n",
    "\n"
   ]
  },
  {
   "cell_type": "code",
   "execution_count": 6,
   "metadata": {},
   "outputs": [
    {
     "name": "stdout",
     "output_type": "stream",
     "text": [
      "[5, 5, 6, -1, 3, -1]\n",
      "[-1, 2, -1, -1, 6, 6]\n"
     ]
    }
   ],
   "source": [
    "heights = [2,1,5,6,2,3]\n",
    "largestRectangleArea(heights)"
   ]
  },
  {
   "cell_type": "code",
   "execution_count": null,
   "metadata": {},
   "outputs": [],
   "source": []
  }
 ],
 "metadata": {
  "kernelspec": {
   "display_name": "Python 3",
   "language": "python",
   "name": "python3"
  },
  "language_info": {
   "codemirror_mode": {
    "name": "ipython",
    "version": 3
   },
   "file_extension": ".py",
   "mimetype": "text/x-python",
   "name": "python",
   "nbconvert_exporter": "python",
   "pygments_lexer": "ipython3",
   "version": "3.12.0"
  }
 },
 "nbformat": 4,
 "nbformat_minor": 2
}
