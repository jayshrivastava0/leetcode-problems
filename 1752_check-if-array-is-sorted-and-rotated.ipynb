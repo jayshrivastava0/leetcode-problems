{
 "cells": [
  {
   "cell_type": "markdown",
   "metadata": {},
   "source": [
    "# 1752. Check If Array Is Sorted And Rotated\n",
    "\n",
    "Given an array nums, return true if the array was originally sorted in non-decreasing order, then rotated some number of positions (including zero). Otherwise, return false.\n",
    "\n",
    "There may be duplicates in the original array.\n",
    "\n",
    "Note: An array A rotated by x positions results in an array B of the same length such that A[i] == B[(i+x) % A.length], where % is the modulo operation.\n",
    "\n",
    " \n",
    "\n",
    "Example 1:\n",
    "\n",
    "Input: nums = [3,4,5,1,2]\n",
    "Output: true\n",
    "Explanation: [1,2,3,4,5] is the original sorted array.\n",
    "You can rotate the array by x = 3 positions to begin on the the element of value 3: [3,4,5,1,2].\n",
    "Example 2:\n",
    "\n",
    "Input: nums = [2,1,3,4]\n",
    "Output: false\n",
    "Explanation: There is no sorted array once rotated that can make nums.\n",
    "Example 3:\n",
    "\n",
    "Input: nums = [1,2,3]\n",
    "Output: true\n",
    "Explanation: [1,2,3] is the original sorted array.\n",
    "You can rotate the array by x = 0 positions (i.e. no rotation) to make nums.\n",
    " \n",
    "\n",
    "Constraints:\n",
    "\n",
    "1 <= nums.length <= 100\n",
    "1 <= nums[i] <= 100"
   ]
  },
  {
   "cell_type": "markdown",
   "metadata": {},
   "source": [
    "## Brute Force Approach"
   ]
  },
  {
   "cell_type": "markdown",
   "metadata": {},
   "source": [
    "A sorted array, if it was in the past, so if i rotate it, both the parts will be sorted.\n",
    "\n",
    "Let's say \n",
    "\n",
    "1 2 3 4 5 6 7 8 9\n",
    "\n",
    "I rotate it to \n",
    "\n",
    "4 5 6 7 8 9                 1 2 3\n",
    "\n",
    "Then with two checks we can understand if it was rotated.\n",
    "\n",
    "1. Both the sub arrays are sorted\n",
    "2. The first element of first array must be greater or equal to the last element of the second subarray."
   ]
  },
  {
   "cell_type": "markdown",
   "metadata": {},
   "source": [
    "This is not an optimal approach, we'll have to optimize it.\n",
    "\n",
    "Also that count thing is very very embarassing"
   ]
  },
  {
   "cell_type": "code",
   "execution_count": null,
   "metadata": {},
   "outputs": [],
   "source": [
    "def check(nums: list[int]) -> bool:\n",
    "    ignore_once = 1\n",
    "    count = 1\n",
    "    ## check for sorted\n",
    "    for i in range(len(nums) - 1):\n",
    "        if nums[i] > nums[i+1]:\n",
    "            if ignore_once:\n",
    "                ignore_once += 1\n",
    "                pass\n",
    "        else:\n",
    "            count += 1\n",
    "    \n",
    "    if count == len(nums):\n",
    "        return True    \n",
    "    if nums[-1] <= nums[0]:\n",
    "        if ignore_once == 2:\n",
    "            return True\n",
    "        return False\n",
    "    return False"
   ]
  },
  {
   "cell_type": "markdown",
   "metadata": {},
   "source": [
    "Runtime\n",
    "41 ms\n",
    "Beats \n",
    "58.09% of users with Python3\n",
    "\n",
    "\n",
    "Memory\n",
    "16.54 MB\n",
    "Beats\n",
    "54.26% of users with Python3"
   ]
  },
  {
   "cell_type": "markdown",
   "metadata": {},
   "source": [
    "# Best Optimal Approach"
   ]
  },
  {
   "cell_type": "code",
   "execution_count": 39,
   "metadata": {},
   "outputs": [],
   "source": [
    "def check(nums: list[int]) -> bool:\n",
    "    sorted_nums = sorted(nums)\n",
    "    for i in range(len(nums)):\n",
    "        if nums[i:] + nums[:i]  == sorted_nums:\n",
    "            return True\n",
    "    return False"
   ]
  },
  {
   "cell_type": "markdown",
   "metadata": {},
   "source": [
    "Runtime\n",
    "36 ms\n",
    "Beats\n",
    "83.17% of users with Python3\n",
    "\n",
    "\n",
    "Memory\n",
    "16.57 MB\n",
    "Beats\n",
    "54.26% of users with Python3"
   ]
  }
 ],
 "metadata": {
  "kernelspec": {
   "display_name": "Python 3",
   "language": "python",
   "name": "python3"
  },
  "language_info": {
   "codemirror_mode": {
    "name": "ipython",
    "version": 3
   },
   "file_extension": ".py",
   "mimetype": "text/x-python",
   "name": "python",
   "nbconvert_exporter": "python",
   "pygments_lexer": "ipython3",
   "version": "3.12.0"
  }
 },
 "nbformat": 4,
 "nbformat_minor": 2
}
