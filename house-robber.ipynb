{
 "cells": [
  {
   "cell_type": "code",
   "execution_count": 116,
   "metadata": {},
   "outputs": [],
   "source": [
    "def rob(nums):\n",
    "    # Edge cases checks\n",
    "    if len(nums) < 3:\n",
    "        if len(nums) == 1:\n",
    "            return nums[0]\n",
    "        if len(nums) == 2:\n",
    "            return max(nums[0], nums[1])\n",
    "    listy = [0] * len(nums)\n",
    "    listy[0] = nums[0]\n",
    "    listy[1] = nums[1]\n",
    "    for i in range(2, len(nums)):\n",
    "        if i > 2:\n",
    "            listy[i] = nums[i] + max(listy[i-2], listy[i-3])\n",
    "        else:\n",
    "            listy[i] = nums[i] + listy[i-2]\n",
    "    return max(listy[-1], listy[-2])"
   ]
  }
 ],
 "metadata": {
  "kernelspec": {
   "display_name": "Python 3",
   "language": "python",
   "name": "python3"
  },
  "language_info": {
   "codemirror_mode": {
    "name": "ipython",
    "version": 3
   },
   "file_extension": ".py",
   "mimetype": "text/x-python",
   "name": "python",
   "nbconvert_exporter": "python",
   "pygments_lexer": "ipython3",
   "version": "3.11.3"
  },
  "orig_nbformat": 4
 },
 "nbformat": 4,
 "nbformat_minor": 2
}
