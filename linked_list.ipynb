{
 "cells": [
  {
   "cell_type": "code",
   "execution_count": 142,
   "metadata": {},
   "outputs": [],
   "source": [
    "class Node:\n",
    "    ## node init\n",
    "    def __init__(self, value) -> None:\n",
    "        self.value = value\n",
    "        self.next = None\n",
    "\n",
    "    def __repr__(self) -> str:\n",
    "        return str(self.value)\n",
    "\n",
    "class LinkedList:\n",
    "    ## linked list of nodes\n",
    "    def __init__(self) -> None:\n",
    "        self.head = None\n",
    "\n",
    "\n",
    "    def insert(self, val):\n",
    "        New_Node = Node(val)\n",
    "        if self.head == None:\n",
    "            self.head = New_Node            \n",
    "        else:\n",
    "            head_dup=self.head\n",
    "            while head_dup.next:\n",
    "                head_dup = head_dup.next\n",
    "            head_dup.next = New_Node\n",
    "    \n",
    "    def traverse(self):\n",
    "        head_dup = self.head\n",
    "        if head_dup.next == None:\n",
    "            print(\"No Head\")\n",
    "        while head_dup:\n",
    "            print(head_dup.value)\n",
    "            head_dup = head_dup.next\n",
    "\n",
    "\n",
    "    def insert_from_front(self, val):\n",
    "        ## New node\n",
    "        New_Node = Node(val)\n",
    "\n",
    "        ## head dup to store head\n",
    "        ## \n",
    "        ## previous node.next -> New Node\n",
    "        ## New Node.next -> self.head\n",
    "        if self.head == None:\n",
    "            self.head = New_Node\n",
    "        else:\n",
    "            New_Node.next = self.head\n",
    "            self.head=New_Node\n",
    "\n",
    "    def size_of_list(self):\n",
    "        size = 0\n",
    "        head_dup = self.head\n",
    "        while head_dup:\n",
    "            size += 1\n",
    "            head_dup = head_dup.next\n",
    "        return size\n",
    "    \n",
    "    def find_mid(self):\n",
    "        head_dup = self.head\n",
    "        slow = head_dup\n",
    "        fast = head_dup\n",
    "\n",
    "\n",
    "        while fast.next and fast.next.next :\n",
    "            slow = slow.next\n",
    "            fast = fast.next.next\n",
    "        return slow\n",
    "        \n"
   ]
  },
  {
   "cell_type": "code",
   "execution_count": 145,
   "metadata": {},
   "outputs": [
    {
     "name": "stdout",
     "output_type": "stream",
     "text": [
      "20\n",
      "30\n",
      "40\n",
      "100\n"
     ]
    }
   ],
   "source": [
    "list_object = LinkedList()\n",
    "list_object.insert(20)\n",
    "list_object.insert(30)\n",
    "list_object.insert(40)\n",
    "list_object.insert(100)\n",
    "# list_object.insert(10000)\n",
    "list_object.traverse()\n"
   ]
  },
  {
   "cell_type": "code",
   "execution_count": 146,
   "metadata": {},
   "outputs": [
    {
     "data": {
      "text/plain": [
       "30"
      ]
     },
     "execution_count": 146,
     "metadata": {},
     "output_type": "execute_result"
    }
   ],
   "source": [
    "list_object.find_mid()"
   ]
  },
  {
   "cell_type": "code",
   "execution_count": null,
   "metadata": {},
   "outputs": [],
   "source": []
  },
  {
   "cell_type": "code",
   "execution_count": null,
   "metadata": {},
   "outputs": [],
   "source": []
  }
 ],
 "metadata": {
  "kernelspec": {
   "display_name": "Python 3",
   "language": "python",
   "name": "python3"
  },
  "language_info": {
   "codemirror_mode": {
    "name": "ipython",
    "version": 3
   },
   "file_extension": ".py",
   "mimetype": "text/x-python",
   "name": "python",
   "nbconvert_exporter": "python",
   "pygments_lexer": "ipython3",
   "version": "3.12.0"
  }
 },
 "nbformat": 4,
 "nbformat_minor": 2
}
