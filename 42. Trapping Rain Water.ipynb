{
 "cells": [
  {
   "cell_type": "markdown",
   "metadata": {},
   "source": [
    "# 42. Trapping Rain Water\n",
    "\n",
    "Given n non-negative integers representing an elevation map where the width of each bar is 1, compute how much water it can trap after raining.\n",
    "\n",
    " \n",
    "\n",
    "Example 1:\n",
    "\n",
    "\n",
    "Input: height = [0,1,0,2,1,0,1,3,2,1,2,1]\n",
    "Output: 6\n",
    "Explanation: The above elevation map (black section) is represented by array [0,1,0,2,1,0,1,3,2,1,2,1]. In this case, 6 units of rain water (blue section) are being trapped.\n",
    "Example 2:\n",
    "\n",
    "Input: height = [4,2,0,3,2,5]\n",
    "Output: 9\n",
    " \n",
    "\n",
    "Constraints:\n",
    "\n",
    "n == height.length\n",
    "1 <= n <= 2 * 104\n",
    "0 <= height[i] <= 105"
   ]
  },
  {
   "cell_type": "code",
   "execution_count": 25,
   "metadata": {},
   "outputs": [],
   "source": [
    "def trap(height: list[int]) -> int:\n",
    "\n",
    "    ## basically left should start from first non zero value in height\n",
    "    # left, right = 0, 1\n",
    "\n",
    "    water_volume = 0\n",
    "    # traversing the array\n",
    "    for i, num in enumerate(height):\n",
    "        # increment right until it finds a number which is equal or greater than left pointer.\n",
    "        if num == 0:\n",
    "            continue\n",
    "        else:\n",
    "            left = i - 1\n",
    "            right = left + 1\n",
    "\n",
    "        print(\"left=\", left, \"\\tright=\",right)\n",
    "        blocks_to_subtract = 0\n",
    "        while height[left] > height[right] and right != len(height)-1:\n",
    "            if right == len(height)-1:\n",
    "                left += 1\n",
    "                right = left + 1\n",
    "            else:\n",
    "                # while height[left] == height[right] or height[left] < height[right]:\n",
    "                # increment right pointer\n",
    "                right += 1\n",
    "                blocks_to_subtract += height[right]\n",
    "        # length = right - left\n",
    "        # heigh = minimum of both the walls\n",
    "        \n",
    "        water_volume += (right - left) * min(height[left] , height[right])\n",
    "        print(\"wolume before subtraction\", water_volume)\n",
    "        water_volume -= blocks_to_subtract\n",
    "        print(\"wolume after subtraction\", water_volume)\n",
    "\n",
    "        # When the volume has been added, let's move forward.\n",
    "        left = right\n",
    "        right += 1\n",
    "    return water_volume"
   ]
  },
  {
   "cell_type": "code",
   "execution_count": 26,
   "metadata": {},
   "outputs": [
    {
     "name": "stdout",
     "output_type": "stream",
     "text": [
      "left= 0 \tright= 1\n",
      "wolume before subtraction 0\n",
      "wolume after subtraction 0\n",
      "left= 2 \tright= 3\n",
      "wolume before subtraction 0\n",
      "wolume after subtraction 0\n",
      "left= 3 \tright= 4\n",
      "wolume before subtraction 8\n",
      "wolume after subtraction 4\n",
      "left= 5 \tright= 6\n",
      "wolume before subtraction 4\n",
      "wolume after subtraction 4\n",
      "left= 6 \tright= 7\n",
      "wolume before subtraction 5\n",
      "wolume after subtraction 5\n",
      "left= 7 \tright= 8\n",
      "wolume before subtraction 9\n",
      "wolume after subtraction 5\n",
      "left= 8 \tright= 9\n",
      "wolume before subtraction 9\n",
      "wolume after subtraction 7\n",
      "left= 9 \tright= 10\n",
      "wolume before subtraction 8\n",
      "wolume after subtraction 8\n",
      "left= 10 \tright= 11\n",
      "wolume before subtraction 9\n",
      "wolume after subtraction 9\n"
     ]
    },
    {
     "data": {
      "text/plain": [
       "9"
      ]
     },
     "execution_count": 26,
     "metadata": {},
     "output_type": "execute_result"
    }
   ],
   "source": [
    "height = [0,1,0,2,1,0,1,3,2,1,2,1]\n",
    "trap(height)"
   ]
  },
  {
   "cell_type": "code",
   "execution_count": null,
   "metadata": {},
   "outputs": [],
   "source": []
  }
 ],
 "metadata": {
  "kernelspec": {
   "display_name": "Python 3",
   "language": "python",
   "name": "python3"
  },
  "language_info": {
   "codemirror_mode": {
    "name": "ipython",
    "version": 3
   },
   "file_extension": ".py",
   "mimetype": "text/x-python",
   "name": "python",
   "nbconvert_exporter": "python",
   "pygments_lexer": "ipython3",
   "version": "3.12.0"
  }
 },
 "nbformat": 4,
 "nbformat_minor": 2
}
