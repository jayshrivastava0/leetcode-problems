{
 "cells": [
  {
   "cell_type": "markdown",
   "metadata": {},
   "source": [
    "# 704. Binary Search\n",
    "\n",
    "Given an array of integers nums which is sorted in ascending order, and an integer target, write a function to search target in nums. If target exists, then return its index. Otherwise, return -1.\n",
    "\n",
    "You must write an algorithm with O(log n) runtime complexity.\n",
    "\n",
    " \n",
    "\n",
    "Example 1:\n",
    "\n",
    "Input: nums = [-1,0,3,5,9,12], target = 9\n",
    "Output: 4\n",
    "Explanation: 9 exists in nums and its index is 4\n",
    "Example 2:\n",
    "\n",
    "Input: nums = [-1,0,3,5,9,12], target = 2\n",
    "Output: -1\n",
    "Explanation: 2 does not exist in nums so return -1\n",
    " \n",
    "\n",
    "Constraints:\n",
    "\n",
    "1 <= nums.length <= 104\n",
    "-104 < nums[i], target < 104\n",
    "All the integers in nums are unique.\n",
    "nums is sorted in ascending order."
   ]
  },
  {
   "cell_type": "code",
   "execution_count": 1,
   "metadata": {},
   "outputs": [],
   "source": [
    "def search(self, nums: list[int], target: int) -> int:\n",
    "    high = len(nums)-1\n",
    "    low = 0\n",
    "    ## iterative\n",
    "    while high >= low :\n",
    "        mid = (high + low) // 2\n",
    "        if target == nums[mid]:\n",
    "            return mid\n",
    "        if target > nums[mid]:\n",
    "            low = mid+1\n",
    "        elif target < nums[mid]:\n",
    "            high = mid-1\n",
    "    if high < low:\n",
    "        return -1"
   ]
  },
  {
   "cell_type": "code",
   "execution_count": 8,
   "metadata": {},
   "outputs": [],
   "source": [
    "def search(nums: list[int], target: int) -> int:\n",
    "    high = len(nums)-1\n",
    "    low = 0\n",
    "    ## recursive\n",
    "    def recursive_search(nums, target, low, high):\n",
    "        if high < low:\n",
    "            return -1\n",
    "        mid = (high + low) // 2\n",
    "        if target == nums[mid]:\n",
    "            return mid\n",
    "        elif target < nums[mid]:\n",
    "            return recursive_search(nums, target, low, mid-1)\n",
    "        elif target > nums[mid]:\n",
    "            return recursive_search(nums, target, mid+1, high)\n",
    "        else:\n",
    "            print(\"this state didn't went into any of the condition\", nums, target, mid, high)\n",
    "    return recursive_search(nums, target, low, high)"
   ]
  },
  {
   "cell_type": "code",
   "execution_count": 10,
   "metadata": {},
   "outputs": [
    {
     "data": {
      "text/plain": [
       "5"
      ]
     },
     "execution_count": 10,
     "metadata": {},
     "output_type": "execute_result"
    }
   ],
   "source": [
    "nums = [-1,0,3,5,9,12]\n",
    "target = 12\n",
    "search(nums, target)"
   ]
  },
  {
   "cell_type": "code",
   "execution_count": null,
   "metadata": {},
   "outputs": [],
   "source": []
  }
 ],
 "metadata": {
  "kernelspec": {
   "display_name": "Python 3",
   "language": "python",
   "name": "python3"
  },
  "language_info": {
   "codemirror_mode": {
    "name": "ipython",
    "version": 3
   },
   "file_extension": ".py",
   "mimetype": "text/x-python",
   "name": "python",
   "nbconvert_exporter": "python",
   "pygments_lexer": "ipython3",
   "version": "3.12.0"
  }
 },
 "nbformat": 4,
 "nbformat_minor": 2
}
