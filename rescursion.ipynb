{
 "cells": [
  {
   "cell_type": "code",
   "execution_count": 7,
   "metadata": {},
   "outputs": [],
   "source": [
    "# def palindrome(str):\n",
    "def recursive_check(str, start, end):\n",
    "    if start > end :\n",
    "        return True\n",
    "    if str[start] != str[end]:\n",
    "        return False\n",
    "    return recursive_check(str, start+1, end-1)\n",
    "    # return recursive_check(str, 0, len(str)-1)"
   ]
  },
  {
   "cell_type": "code",
   "execution_count": 19,
   "metadata": {},
   "outputs": [
    {
     "data": {
      "text/plain": [
       "False"
      ]
     },
     "execution_count": 19,
     "metadata": {},
     "output_type": "execute_result"
    }
   ],
   "source": [
    "string = 'aabb'\n",
    "recursive_check(string,0,len(string)-1)"
   ]
  },
  {
   "cell_type": "code",
   "execution_count": 17,
   "metadata": {},
   "outputs": [
    {
     "data": {
      "text/plain": [
       "False"
      ]
     },
     "execution_count": 17,
     "metadata": {},
     "output_type": "execute_result"
    }
   ],
   "source": [
    "string =\"Madammadammadammadam\"\n",
    "recursive_check(string,0,len(string)-1)"
   ]
  },
  {
   "cell_type": "code",
   "execution_count": 33,
   "metadata": {},
   "outputs": [],
   "source": [
    "def fib(target, listy):\n",
    "    prev = listy[-2]\n",
    "    next = listy[-1]\n",
    "    listy.append(prev+next)\n",
    "    if target == 0:\n",
    "        print(listy)\n",
    "        return listy\n",
    "    fib(target-1, listy)"
   ]
  },
  {
   "cell_type": "code",
   "execution_count": 35,
   "metadata": {},
   "outputs": [
    {
     "name": "stdout",
     "output_type": "stream",
     "text": [
      "[0, 1, 1, 2]\n",
      "None\n"
     ]
    }
   ],
   "source": [
    "listyq = [0,1]\n",
    "print(fib(1, listyq))"
   ]
  },
  {
   "cell_type": "code",
   "execution_count": 40,
   "metadata": {},
   "outputs": [],
   "source": [
    "def fib_sum(target, sum = 0, a = 0, b =1):\n",
    "    if target < 0:\n",
    "        print(sum)\n",
    "        return sum\n",
    "    sum += b\n",
    "    fib_sum(target-1, sum, b, a+b)"
   ]
  },
  {
   "cell_type": "code",
   "execution_count": 43,
   "metadata": {},
   "outputs": [
    {
     "name": "stdout",
     "output_type": "stream",
     "text": [
      "33\n"
     ]
    }
   ],
   "source": [
    "fib_sum(6)"
   ]
  },
  {
   "cell_type": "code",
   "execution_count": 44,
   "metadata": {},
   "outputs": [],
   "source": []
  },
  {
   "cell_type": "code",
   "execution_count": 57,
   "metadata": {},
   "outputs": [],
   "source": [
    "\n",
    "def merge_sort(left, right):\n",
    "    result = []\n",
    "    l,r = 0,0\n",
    "    while l < len(left) and r < len(right):\n",
    "        if left[l] < right[r]:\n",
    "            result.append(l)\n",
    "            l += 1\n",
    "        else:\n",
    "            result.append(r)\n",
    "            r += 1\n",
    "    result.extend(left[l:]) \n",
    "    result.extend(right[r:])\n",
    "    return result\n",
    "\n",
    "\n",
    "\n",
    "def merge(array):\n",
    "    if len(array) == 1:\n",
    "        print(array)\n",
    "        return array\n",
    "    mid = len(array)//2\n",
    "    left = array[:mid]\n",
    "    right = array[mid:]\n",
    "    left_half = merge(left)\n",
    "    right_half = merge(right)\n",
    "    return merge_sort(left_half, right_half)"
   ]
  },
  {
   "cell_type": "code",
   "execution_count": 55,
   "metadata": {},
   "outputs": [
    {
     "name": "stdout",
     "output_type": "stream",
     "text": [
      "[4]\n",
      "[3]\n",
      "[1]\n",
      "[6]\n",
      "[9]\n"
     ]
    },
    {
     "data": {
      "text/plain": [
       "[0, 1, 0, 1, 9]"
      ]
     },
     "execution_count": 55,
     "metadata": {},
     "output_type": "execute_result"
    }
   ],
   "source": [
    "array1 = [4,3,1,6,9]\n",
    "merge(array1)"
   ]
  },
  {
   "cell_type": "code",
   "execution_count": null,
   "metadata": {},
   "outputs": [],
   "source": []
  }
 ],
 "metadata": {
  "kernelspec": {
   "display_name": "Python 3",
   "language": "python",
   "name": "python3"
  },
  "language_info": {
   "codemirror_mode": {
    "name": "ipython",
    "version": 3
   },
   "file_extension": ".py",
   "mimetype": "text/x-python",
   "name": "python",
   "nbconvert_exporter": "python",
   "pygments_lexer": "ipython3",
   "version": "3.12.0"
  }
 },
 "nbformat": 4,
 "nbformat_minor": 2
}
