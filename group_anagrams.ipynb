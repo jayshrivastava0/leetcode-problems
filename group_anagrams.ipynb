{
 "cells": [
  {
   "cell_type": "markdown",
   "metadata": {},
   "source": [
    "# 49. Group Anagrams\n",
    "\n",
    "Given an array of strings strs, group the anagrams together. You can return the answer in any order.\n",
    "\n",
    "An Anagram is a word or phrase formed by rearranging the letters of a different word or phrase, typically using all the original letters exactly once.\n",
    "\n",
    " \n",
    "\n",
    "Example 1:\n",
    "\n",
    "Input: strs = [\"eat\",\"tea\",\"tan\",\"ate\",\"nat\",\"bat\"]\n",
    "Output: [[\"bat\"],[\"nat\",\"tan\"],[\"ate\",\"eat\",\"tea\"]]\n",
    "Example 2:\n",
    "\n",
    "Input: strs = [\"\"]\n",
    "Output: [[\"\"]]\n",
    "Example 3:\n",
    "\n",
    "Input: strs = [\"a\"]\n",
    "Output: [[\"a\"]]\n",
    " \n",
    "\n",
    "Constraints:\n",
    "\n",
    "1 <= strs.length <= 104\n",
    "0 <= strs[i].length <= 100\n",
    "strs[i] consists of lowercase English letters."
   ]
  },
  {
   "cell_type": "code",
   "execution_count": 14,
   "metadata": {},
   "outputs": [],
   "source": [
    "from collections import Counter, defaultdict\n",
    "def groupAnagrams(strs: list[str]) -> list[list[str]]:\n",
    "    ## We will try to do one solution which is making dictionary for each word\n",
    "    # but this is not optimized since the length is 1 <= strs.length <= (10)**4.\n",
    "    # Let's give it a try.\n",
    "    # output_list = []\n",
    "    # # added_words = set()\n",
    "    # for index, word1 in enumerate(strs):\n",
    "    #     # if word1 not in added_words:\n",
    "    #     sublist = [word1]\n",
    "    #     for word2 in strs[index+1:]:\n",
    "    #         ## make sure that the sublist contain one word only once.\n",
    "    #         if Counter(word1) == Counter(word2):\n",
    "    #             # sublist.append(word1)\n",
    "    #             sublist.append(word2)\n",
    "    #                 # added_words.add(word2)\n",
    "    #         output_list.append(list(sublist))\n",
    "    # # print(output_list)\n",
    "    # return output_list\n",
    "    ## -------------------------------------------------------------------\n",
    "    # res=defaultdict(list)\n",
    "    # for ele in strs:\n",
    "    #     counter=[0]*26\n",
    "    #     for i in ele:\n",
    "    #         counter[ord(i)-ord('a')]+=1\n",
    "    #         # print(counter)\n",
    "    #     key=tuple(counter)\n",
    "    #     res[key].append(ele)   \n",
    "\n",
    "        anagram_map = defaultdict(list)\n",
    "        print(anagram_map)\n",
    "        for word in strs:\n",
    "            sorted_word = ''.join(sorted(word))\n",
    "            # print(sorted_word)\n",
    "            anagram_map[sorted_word].append(word)\n",
    "            # print(anagram_map , \"\\n\")\n",
    "        \n",
    "        # return list(anagram_map.values())\n",
    "        return anagram_map.values()\n",
    "\n",
    "    # return res.values()\n",
    "\n",
    "#Algo\n",
    "# ''' ex- arr=[\"eat\",\"tea\",\"tan\",\"ate\",\"nat\",\"bat\"]\n",
    "# 1. in for loop read each element\n",
    "# 2. now take counter as ascii values of each compmonent in an array of 26 letters(drop recreate)\n",
    "\n",
    "# '''\n"
   ]
  },
  {
   "cell_type": "code",
   "execution_count": 15,
   "metadata": {},
   "outputs": [
    {
     "name": "stdout",
     "output_type": "stream",
     "text": [
      "defaultdict(<class 'list'>, {})\n"
     ]
    },
    {
     "data": {
      "text/plain": [
       "dict_values([['eat', 'tea', 'ate'], ['tan', 'nat'], ['bat']])"
      ]
     },
     "execution_count": 15,
     "metadata": {},
     "output_type": "execute_result"
    }
   ],
   "source": [
    "strs = [\"eat\",\"tea\",\"tan\",\"ate\",\"nat\",\"bat\"]\n",
    "groupAnagrams(strs)"
   ]
  },
  {
   "cell_type": "code",
   "execution_count": 36,
   "metadata": {},
   "outputs": [
    {
     "data": {
      "text/plain": [
       "99"
      ]
     },
     "execution_count": 36,
     "metadata": {},
     "output_type": "execute_result"
    }
   ],
   "source": [
    "ord('c')"
   ]
  },
  {
   "cell_type": "code",
   "execution_count": null,
   "metadata": {},
   "outputs": [],
   "source": []
  }
 ],
 "metadata": {
  "kernelspec": {
   "display_name": "Python 3",
   "language": "python",
   "name": "python3"
  },
  "language_info": {
   "codemirror_mode": {
    "name": "ipython",
    "version": 3
   },
   "file_extension": ".py",
   "mimetype": "text/x-python",
   "name": "python",
   "nbconvert_exporter": "python",
   "pygments_lexer": "ipython3",
   "version": "3.12.0"
  }
 },
 "nbformat": 4,
 "nbformat_minor": 2
}
