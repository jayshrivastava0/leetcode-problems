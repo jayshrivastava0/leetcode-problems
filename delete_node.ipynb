{
 "cells": [
  {
   "cell_type": "code",
   "execution_count": 4,
   "metadata": {},
   "outputs": [
    {
     "name": "stdout",
     "output_type": "stream",
     "text": [
      "(1, 10) -> (2, 20) -> (3, 30) -> (4, 40) -> (5, 50) -> (6, 60) -> None\n"
     ]
    }
   ],
   "source": [
    "class Node:\n",
    "    def __init__(self, data1, data2):\n",
    "        self.data1 = data1\n",
    "        self.data2 = data2\n",
    "        self.next = None\n",
    "\n",
    "class LinkedList:\n",
    "    def __init__(self):\n",
    "        self.head = None\n",
    "\n",
    "    def append(self, data1, data2):\n",
    "        new_node = Node(data1, data2)\n",
    "        if not self.head:\n",
    "            self.head = new_node\n",
    "            return\n",
    "        current = self.head\n",
    "        while current.next:\n",
    "            current = current.next\n",
    "        current.next = new_node\n",
    "\n",
    "    def delete_node(self, data1, data2):\n",
    "        # check to see if the given node is in linked list or not\n",
    "        current = self.head\n",
    "        while current.next:\n",
    "            # if the description matches then do the following operations and delete this node\n",
    "            # if current.next.next == None:\n",
    "            #     current.next.next = 1\n",
    "            leading_node = current.next\n",
    "            if current.data1 == data1 and current.data2 == data2:    \n",
    "                current.data1 = leading_node.data1\n",
    "                current.data2 = leading_node.data2\n",
    "                current.next = leading_node.next\n",
    "                return True\n",
    "            elif leading_node.next == None:\n",
    "                    if leading_node.data1 == data1 and leading_node.data2 == data2:\n",
    "                        current.next = None\n",
    "                        return True\n",
    "            current = current.next\n",
    "            \n",
    "        # raise ValueError(\"This node doesn't exist in the linked list\")\n",
    "\n",
    "    def display(self):\n",
    "        current = self.head\n",
    "        while current:\n",
    "            print(f\"({current.data1}, {current.data2}) -> \", end=\"\")\n",
    "            current = current.next\n",
    "        print(\"None\")\n",
    "\n",
    "# Create a linked list\n",
    "linked_list = LinkedList()\n",
    "data = [(1, 10), (2, 20), (3, 30), (4, 40), (5, 50), (6, 60)]\n",
    "\n",
    "for d1, d2 in data:\n",
    "    linked_list.append(d1, d2)\n",
    "\n",
    "linked_list.display()\n"
   ]
  },
  {
   "cell_type": "markdown",
   "metadata": {},
   "source": [
    "Now for the code, i'll pass (3, 30) as the node given.\n",
    "And i have to delete that node and keep everything the same."
   ]
  },
  {
   "cell_type": "code",
   "execution_count": 5,
   "metadata": {},
   "outputs": [
    {
     "data": {
      "text/plain": [
       "True"
      ]
     },
     "execution_count": 5,
     "metadata": {},
     "output_type": "execute_result"
    }
   ],
   "source": [
    "linked_list.delete_node(6, 60)"
   ]
  },
  {
   "cell_type": "code",
   "execution_count": 6,
   "metadata": {},
   "outputs": [
    {
     "name": "stdout",
     "output_type": "stream",
     "text": [
      "(1, 10) -> (2, 20) -> (3, 30) -> (4, 40) -> (5, 50) -> None\n"
     ]
    }
   ],
   "source": [
    "linked_list.display()"
   ]
  },
  {
   "cell_type": "code",
   "execution_count": null,
   "metadata": {},
   "outputs": [],
   "source": []
  },
  {
   "cell_type": "code",
   "execution_count": null,
   "metadata": {},
   "outputs": [],
   "source": []
  },
  {
   "cell_type": "code",
   "execution_count": null,
   "metadata": {},
   "outputs": [],
   "source": []
  }
 ],
 "metadata": {
  "kernelspec": {
   "display_name": "Python 3",
   "language": "python",
   "name": "python3"
  },
  "language_info": {
   "codemirror_mode": {
    "name": "ipython",
    "version": 3
   },
   "file_extension": ".py",
   "mimetype": "text/x-python",
   "name": "python",
   "nbconvert_exporter": "python",
   "pygments_lexer": "ipython3",
   "version": "3.11.3"
  },
  "orig_nbformat": 4
 },
 "nbformat": 4,
 "nbformat_minor": 2
}
