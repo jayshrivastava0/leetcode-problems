{
 "cells": [
  {
   "cell_type": "markdown",
   "metadata": {},
   "source": [
    "# 1071. Greatest Common Divisor of Strings\n",
    "\n",
    "For two strings s and t, we say \"t divides s\" if and only if s = t + ... + t (i.e., t is concatenated with itself one or more times).\n",
    "\n",
    "Given two strings str1 and str2, return the largest string x such that x divides both str1 and str2.\n",
    "\n",
    " \n",
    "\n",
    "Example 1:\n",
    "\n",
    "Input: str1 = \"ABCABC\", str2 = \"ABC\"\n",
    "Output: \"ABC\"\n",
    "Example 2:\n",
    "\n",
    "Input: str1 = \"ABABAB\", str2 = \"ABAB\"\n",
    "Output: \"AB\"\n",
    "Example 3:\n",
    "\n",
    "Input: str1 = \"LEET\", str2 = \"CODE\"\n",
    "Output: \"\"\n",
    " \n",
    "\n",
    "Constraints:\n",
    "\n",
    "1 <= str1.length, str2.length <= 1000\n",
    "str1 and str2 consist of English uppercase letters."
   ]
  },
  {
   "cell_type": "code",
   "execution_count": 17,
   "metadata": {},
   "outputs": [],
   "source": [
    "def gcdOfStrings(str1: str, str2: str) -> str:\n",
    "    ## getting the minimum length\n",
    "    traversing_len = 0\n",
    "    gcd = []\n",
    "    if len(str1) < len(str2):\n",
    "        traversing_len == len(str1)\n",
    "        ## checking to see if charachter matches\n",
    "        for num_i, i in enumerate(str1):\n",
    "            ## if first charachter matches, check how many charachter is matching\n",
    "            if i == str2[num_i]:\n",
    "                gcd.append(i)\n",
    "                for num_j, j in enumerate(str1[num_i:]):\n",
    "                    if j == str2[num_i+num_j]:\n",
    "                        gcd.append(j)\n",
    "            break\n",
    "                        \n",
    "    else:\n",
    "        traversing_len == len(str2)\n",
    "        ## checking to see if charachter matches\n",
    "        for num_i, i in enumerate(str2):\n",
    "            ## if first charachter matches, check how many charachter is matching\n",
    "            if i == str1[num_i]:\n",
    "                gcd.append(i)\n",
    "                for num_j, j in enumerate(str1[num_i:]):\n",
    "                    if j == str1[num_i+num_j]:\n",
    "                        gcd.append(j)\n",
    "            break\n",
    "    print(gcd)\n"
   ]
  },
  {
   "cell_type": "code",
   "execution_count": 18,
   "metadata": {},
   "outputs": [
    {
     "name": "stdout",
     "output_type": "stream",
     "text": [
      "['A', 'A', 'B', 'C', 'A', 'B', 'C', 'A', 'B', 'C']\n"
     ]
    }
   ],
   "source": [
    "str1 = 'ABCABCABC'\n",
    "str2 = 'ABC'\n",
    "\n",
    "gcdOfStrings(str1, str2)"
   ]
  },
  {
   "cell_type": "code",
   "execution_count": null,
   "metadata": {},
   "outputs": [],
   "source": []
  }
 ],
 "metadata": {
  "kernelspec": {
   "display_name": "Python 3",
   "language": "python",
   "name": "python3"
  },
  "language_info": {
   "codemirror_mode": {
    "name": "ipython",
    "version": 3
   },
   "file_extension": ".py",
   "mimetype": "text/x-python",
   "name": "python",
   "nbconvert_exporter": "python",
   "pygments_lexer": "ipython3",
   "version": "3.12.0"
  }
 },
 "nbformat": 4,
 "nbformat_minor": 2
}
