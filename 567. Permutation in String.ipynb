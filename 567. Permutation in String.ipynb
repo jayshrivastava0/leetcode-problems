{
 "cells": [
  {
   "cell_type": "markdown",
   "metadata": {},
   "source": [
    "## 567. Permutation in String\n",
    "\n",
    "Given two strings s1 and s2, return true if s2 contains a permutation of s1, or false otherwise.\n",
    "\n",
    "In other words, return true if one of s1's permutations is the substring of s2.\n",
    "\n",
    " \n",
    "\n",
    "Example 1:\n",
    "\n",
    "Input: s1 = \"ab\", s2 = \"eidbaooo\"\n",
    "Output: true\n",
    "Explanation: s2 contains one permutation of s1 (\"ba\").\n",
    "Example 2:\n",
    "\n",
    "Input: s1 = \"ab\", s2 = \"eidboaoo\"\n",
    "Output: false\n",
    " \n",
    "\n",
    "Constraints:\n",
    "\n",
    "1 <= s1.length, s2.length <= 104\n",
    "s1 and s2 consist of lowercase English letters."
   ]
  },
  {
   "cell_type": "code",
   "execution_count": 18,
   "metadata": {},
   "outputs": [],
   "source": [
    "from collections import Counter\n",
    "def checkInclusion(s1: str, s2: str) -> bool:\n",
    "    if len(s1) > len(s2):\n",
    "        return False\n",
    "\n",
    "    s1_count, s2_count = [0] * 26, [0]*26\n",
    "\n",
    "    for i in range(len(s1)):\n",
    "        s1_count[ord(s1[i]) - ord(\"a\")] += 1\n",
    "        s2_count[ord(s2[i]) - ord(\"a\")] += 1\n",
    "    \n",
    "    matches = 0\n",
    "    for i in range(26):\n",
    "        matches += (1 if s1_count[i] == s2_count[i] else 0)\n",
    "\n",
    "    l = 0\n",
    "    for r in range(len(s1), len(s2)):\n",
    "        if matches == 26:\n",
    "            return True\n",
    "\n",
    "        index = ord(s2[r]) - ord(\"a\")\n",
    "        s2_count[index] += 1\n",
    "        if s1_count[index] == s2_count[index]:\n",
    "            matches += 1\n",
    "\n",
    "        elif s1_count[index] + 1 == s2_count[index]:\n",
    "            matches -= 1\n",
    "        \n",
    "        \n",
    "        index = ord(s2[l]) - ord(\"a\")\n",
    "        s2_count[index] -= 1\n",
    "        if s1_count[index] == s2_count[index]:\n",
    "            matches += 1\n",
    "        elif s1_count[index] - 1 == s2_count[index]:\n",
    "            matches -= 1\n",
    "\n",
    "        l += 1\n",
    "\n",
    "    return matches == 26"
   ]
  },
  {
   "cell_type": "code",
   "execution_count": 19,
   "metadata": {},
   "outputs": [
    {
     "data": {
      "text/plain": [
       "False"
      ]
     },
     "execution_count": 19,
     "metadata": {},
     "output_type": "execute_result"
    }
   ],
   "source": [
    "s1 = \"abc\"\n",
    "s2 = \"eidbaoo\"\n",
    "checkInclusion(s1, s2)"
   ]
  },
  {
   "cell_type": "code",
   "execution_count": null,
   "metadata": {},
   "outputs": [],
   "source": []
  }
 ],
 "metadata": {
  "kernelspec": {
   "display_name": "Python 3",
   "language": "python",
   "name": "python3"
  },
  "language_info": {
   "codemirror_mode": {
    "name": "ipython",
    "version": 3
   },
   "file_extension": ".py",
   "mimetype": "text/x-python",
   "name": "python",
   "nbconvert_exporter": "python",
   "pygments_lexer": "ipython3",
   "version": "3.12.0"
  }
 },
 "nbformat": 4,
 "nbformat_minor": 2
}
