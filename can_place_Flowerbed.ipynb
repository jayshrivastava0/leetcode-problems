{
 "cells": [
  {
   "cell_type": "code",
   "execution_count": 9,
   "metadata": {},
   "outputs": [
    {
     "ename": "TypeError",
     "evalue": "'list' object is not callable",
     "output_type": "error",
     "traceback": [
      "\u001b[1;31m---------------------------------------------------------------------------\u001b[0m",
      "\u001b[1;31mTypeError\u001b[0m                                 Traceback (most recent call last)",
      "Cell \u001b[1;32mIn[9], line 3\u001b[0m\n\u001b[0;32m      1\u001b[0m candies \u001b[38;5;241m=\u001b[39m [\u001b[38;5;241m2\u001b[39m,\u001b[38;5;241m1\u001b[39m,\u001b[38;5;241m5\u001b[39m,\u001b[38;5;241m60\u001b[39m,\u001b[38;5;241m4\u001b[39m,\u001b[38;5;241m5\u001b[39m]\n\u001b[0;32m      2\u001b[0m candies\u001b[38;5;241m=\u001b[39m\u001b[38;5;28mtuple\u001b[39m(candies)\n\u001b[1;32m----> 3\u001b[0m \u001b[38;5;28;43mmax\u001b[39;49m\u001b[43m(\u001b[49m\u001b[43mcandies\u001b[49m\u001b[43m)\u001b[49m\n",
      "\u001b[1;31mTypeError\u001b[0m: 'list' object is not callable"
     ]
    }
   ],
   "source": []
  },
  {
   "cell_type": "code",
   "execution_count": 84,
   "metadata": {},
   "outputs": [],
   "source": [
    "\n",
    "def canPlaceFlowers(flowerbed: list[int], n: int) -> bool:\n",
    "    # flowerbed_mask = flowerbed\n",
    "    flowerbed = [0] + flowerbed + [0]\n",
    "    for num_i in range(1,len(flowerbed)-1):\n",
    "        print(num_i)\n",
    "        if flowerbed[num_i] == 0:\n",
    "            if flowerbed[num_i+1] == 0 and flowerbed[num_i-1] == 0:\n",
    "                flowerbed[num_i] = 1\n",
    "                n = n - 1\n",
    "        print(flowerbed)\n",
    "    return True if n <= 0 else False \n",
    "\n",
    "    "
   ]
  },
  {
   "cell_type": "code",
   "execution_count": 85,
   "metadata": {},
   "outputs": [
    {
     "name": "stdout",
     "output_type": "stream",
     "text": [
      "1\n",
      "[0, 1, 0, 0, 0, 1, 0, 0, 0]\n",
      "2\n",
      "[0, 1, 0, 0, 0, 1, 0, 0, 0]\n",
      "3\n",
      "[0, 1, 0, 1, 0, 1, 0, 0, 0]\n",
      "4\n",
      "[0, 1, 0, 1, 0, 1, 0, 0, 0]\n",
      "5\n",
      "[0, 1, 0, 1, 0, 1, 0, 0, 0]\n",
      "6\n",
      "[0, 1, 0, 1, 0, 1, 0, 0, 0]\n",
      "7\n",
      "[0, 1, 0, 1, 0, 1, 0, 1, 0]\n"
     ]
    },
    {
     "data": {
      "text/plain": [
       "True"
      ]
     },
     "execution_count": 85,
     "metadata": {},
     "output_type": "execute_result"
    }
   ],
   "source": [
    "flowerbed = [1,0,0,0,1,0,0]\n",
    "n = 2\n",
    "canPlaceFlowers(flowerbed, n)"
   ]
  },
  {
   "cell_type": "code",
   "execution_count": null,
   "metadata": {},
   "outputs": [],
   "source": []
  },
  {
   "cell_type": "code",
   "execution_count": null,
   "metadata": {},
   "outputs": [],
   "source": []
  }
 ],
 "metadata": {
  "kernelspec": {
   "display_name": "Python 3",
   "language": "python",
   "name": "python3"
  },
  "language_info": {
   "codemirror_mode": {
    "name": "ipython",
    "version": 3
   },
   "file_extension": ".py",
   "mimetype": "text/x-python",
   "name": "python",
   "nbconvert_exporter": "python",
   "pygments_lexer": "ipython3",
   "version": "3.12.0"
  }
 },
 "nbformat": 4,
 "nbformat_minor": 2
}
