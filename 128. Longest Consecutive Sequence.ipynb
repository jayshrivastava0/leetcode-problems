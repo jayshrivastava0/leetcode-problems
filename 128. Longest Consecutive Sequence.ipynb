{
 "cells": [
  {
   "cell_type": "markdown",
   "metadata": {},
   "source": [
    "# 128. Longest Consecutive Sequence\n",
    "\n",
    "Given an unsorted array of integers nums, return the length of the longest consecutive elements sequence.\n",
    "\n",
    "You must write an algorithm that runs in O(n) time.\n",
    "\n",
    " \n",
    "\n",
    "Example 1:\n",
    "\n",
    "Input: nums = [100,4,200,1,3,2]\n",
    "Output: 4\n",
    "Explanation: The longest consecutive elements sequence is [1, 2, 3, 4]. Therefore its length is 4.\n",
    "Example 2:\n",
    "\n",
    "Input: nums = [0,3,7,2,5,8,4,6,0,1]\n",
    "Output: 9\n",
    " \n",
    "\n",
    "Constraints:\n",
    "\n",
    "0 <= nums.length <= 105\n",
    "-109 <= nums[i] <= 109"
   ]
  },
  {
   "cell_type": "code",
   "execution_count": 6,
   "metadata": {},
   "outputs": [],
   "source": [
    "# <!-- Better approach then Brute force -->\n",
    "## But this doesn't work\n",
    "def longestConsecutive(nums: list[int]) -> int:\n",
    "    nums = sorted(nums)\n",
    "    left, right = 0, 0\n",
    "    count = 0\n",
    "    for i in range(len(nums)):\n",
    "        right += 1\n",
    "        second_counter = 0\n",
    "        while nums[right] == nums[left] + 1:\n",
    "            second_counter += 1\n",
    "            right += 1\n",
    "        else:\n",
    "            left += right\n",
    "            right += 1\n",
    "            if second_counter > count:\n",
    "                count = second_counter\n",
    "    return count  "
   ]
  },
  {
   "cell_type": "code",
   "execution_count": 8,
   "metadata": {},
   "outputs": [
    {
     "name": "stdout",
     "output_type": "stream",
     "text": [
      "total time 0:00:00\n"
     ]
    }
   ],
   "source": [
    "from datetime import datetime\n",
    "start_time = datetime.now()\n",
    "\n",
    "nums = [100,4,200,1,3,2]\n",
    "# longestConsecutive(nums)\n",
    "end_time = datetime.now()\n",
    "\n",
    "print(\"total time\", end_time-start_time)"
   ]
  },
  {
   "cell_type": "markdown",
   "metadata": {},
   "source": [
    "Optimized approach"
   ]
  },
  {
   "cell_type": "code",
   "execution_count": 11,
   "metadata": {},
   "outputs": [],
   "source": [
    "def longestConsecutive(nums: list[int]) -> int:\n",
    "    num_set = set(nums)\n",
    "    longest_range = 0\n",
    "    for i in num_set:\n",
    "        if (i - 1) not in num_set:\n",
    "            length = 0\n",
    "            while (i + length) in num_set:\n",
    "                length += 1\n",
    "            longest_range = max(longest_range, length)\n",
    "    return longest_range\n"
   ]
  },
  {
   "cell_type": "code",
   "execution_count": 12,
   "metadata": {},
   "outputs": [
    {
     "name": "stdout",
     "output_type": "stream",
     "text": [
      "total time 0:00:00\n"
     ]
    }
   ],
   "source": [
    "from datetime import datetime\n",
    "start_time = datetime.now()\n",
    "\n",
    "nums = [100,4,200,1,3,2]\n",
    "longestConsecutive(nums)\n",
    "end_time = datetime.now()\n",
    "\n",
    "print(\"total time\", end_time-start_time)"
   ]
  },
  {
   "cell_type": "code",
   "execution_count": null,
   "metadata": {},
   "outputs": [],
   "source": []
  }
 ],
 "metadata": {
  "kernelspec": {
   "display_name": "Python 3",
   "language": "python",
   "name": "python3"
  },
  "language_info": {
   "codemirror_mode": {
    "name": "ipython",
    "version": 3
   },
   "file_extension": ".py",
   "mimetype": "text/x-python",
   "name": "python",
   "nbconvert_exporter": "python",
   "pygments_lexer": "ipython3",
   "version": "3.12.0"
  }
 },
 "nbformat": 4,
 "nbformat_minor": 2
}
