{
 "cells": [
  {
   "cell_type": "markdown",
   "metadata": {},
   "source": [
    "347. Top K Frequent Elements\n",
    "\n",
    "Given an integer array nums and an integer k, return the k most frequent elements. You may return the answer in any order.\n",
    "\n",
    " \n",
    "\n",
    "Example 1:\n",
    "\n",
    "Input: nums = [1,1,1,2,2,3], k = 2\n",
    "Output: [1,2]\n",
    "Example 2:\n",
    "\n",
    "Input: nums = [1], k = 1\n",
    "Output: [1]\n",
    " \n",
    "\n",
    "Constraints:\n",
    "\n",
    "1 <= nums.length <= 105\n",
    "-104 <= nums[i] <= 104\n",
    "k is in the range [1, the number of unique elements in the array].\n",
    "It is guaranteed that the answer is unique.\n",
    " \n",
    "\n",
    "Follow up: Your algorithm's time complexity must be better than O(n log n), where n is the array's size."
   ]
  },
  {
   "cell_type": "code",
   "execution_count": 4,
   "metadata": {},
   "outputs": [
    {
     "name": "stdout",
     "output_type": "stream",
     "text": [
      "[1, 2, 3]\n"
     ]
    }
   ],
   "source": [
    "from collections import Counter\n",
    "def topKFrequent(nums: list[int], k: int) -> list[int]:\n",
    "    ## two methods\n",
    "    # sort then find the top frequents elements\n",
    "    ## or make dictionary\n",
    "    # elements_frequency = Counter(nums)\n",
    "    # print(elements_frequency.values())\n",
    "    # hash=[0]*(len(nums)+1)\n",
    "    # print(elements_frequency)\n",
    "    # for key,value in elements_frequency.items():\n",
    "    #     hash[key] = value\n",
    "    ## --------------------------------------------------------------------\n",
    "    # import heapq\n",
    "    # dict_ = Counter(nums)\n",
    "    \n",
    "    # temp_heap=[]\n",
    "    # print(dict_)\n",
    "    # for key,value in dict_.items():\n",
    "    #     heapq.heappush(temp_heap,(key,value))\n",
    "    #     if len(temp_heap)>k:\n",
    "    #         heapq.heappop(temp_heap)\n",
    "    # res=[]\n",
    "    # print(temp_heap)\n",
    "    # while temp_heap:\n",
    "    #     res.append(heapq.heappop(temp_heap)[0])\n",
    "    # return res\n",
    "    ## --------------------------------------------------------------------------\n",
    "\n",
    "    ## Bucket Sort\n",
    "    count = {}\n",
    "    ## something like this structure for bucket sort.\n",
    "    ## just for len of nums because we will be keeping the frequency as key and element as value.\n",
    "    ## and the highest frequencey can be only or equal or less than len of list\n",
    "    # [[], [], [], [], [], [], []] \n",
    "    freq = [[] for i in range(len(nums)+1)]\n",
    "    for i in nums:\n",
    "        count[i] = 1 + count.get(i,0)\n",
    "    for n, c in count.items():\n",
    "        freq[c].append(n)\n",
    "    res = []\n",
    "    ## traversing from the highest frequent to lowest frequent\n",
    "    for i in range(len(freq)-1,0,-1):\n",
    "        for n in freq[i]:\n",
    "            res.append(n)\n",
    "            if len(res) == k:\n",
    "                return res\n",
    "# nums = [-1,-1]\n",
    "# k = 2\n",
    "# print(topKFrequent(nums,k))\n",
    "\n",
    "nums = [1,1,1,2,2,3]\n",
    "k=3\n",
    "print(topKFrequent(nums,k))\n"
   ]
  },
  {
   "cell_type": "code",
   "execution_count": null,
   "metadata": {},
   "outputs": [],
   "source": []
  },
  {
   "cell_type": "code",
   "execution_count": null,
   "metadata": {},
   "outputs": [],
   "source": []
  }
 ],
 "metadata": {
  "kernelspec": {
   "display_name": "Python 3",
   "language": "python",
   "name": "python3"
  },
  "language_info": {
   "codemirror_mode": {
    "name": "ipython",
    "version": 3
   },
   "file_extension": ".py",
   "mimetype": "text/x-python",
   "name": "python",
   "nbconvert_exporter": "python",
   "pygments_lexer": "ipython3",
   "version": "3.12.0"
  }
 },
 "nbformat": 4,
 "nbformat_minor": 2
}
