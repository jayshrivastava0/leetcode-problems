{
 "cells": [
  {
   "cell_type": "code",
   "execution_count": 30,
   "metadata": {},
   "outputs": [],
   "source": [
    "class ListNode:\n",
    "    def __init__(self, val=0, next=None):\n",
    "        self.val = val\n",
    "        self.next = next\n",
    "    def __repr__(self) -> str:\n",
    "        return f\"\"\"{self.val}\"\"\"\n",
    "\n",
    "\n",
    "def swapPairs(head):\n",
    "    try:\n",
    "        for i in range(0,len(head),4):\n",
    "            pointer1 = head[i]\n",
    "            pointer2 = head[i+2]\n",
    "            head[i] = head[i+1]\n",
    "            head[i+2] = head[i+2+1]\n",
    "            head[i+1] = pointer1\n",
    "            head[i+3] = pointer2\n",
    "    except:\n",
    "        pass\n",
    "    return head"
   ]
<<<<<<< HEAD
  },
  {
   "cell_type": "code",
   "execution_count": 31,
   "metadata": {},
   "outputs": [],
   "source": [
    "head = ListNode(1, ListNode(2, ListNode(3, ListNode(4))))\n",
    "# swapPairs(head)"
   ]
  },
  {
   "cell_type": "code",
   "execution_count": 32,
   "metadata": {},
   "outputs": [
    {
     "name": "stdout",
     "output_type": "stream",
     "text": [
      "1\n"
     ]
    }
   ],
   "source": [
    "# head = ListNode(1, ListNode(2, ListNode(3, ListNode(4))))\n",
    "\n",
    "print(swapPairs(head=head))\n",
    "\n"
   ]
  },
  {
   "cell_type": "code",
   "execution_count": null,
   "metadata": {},
   "outputs": [],
   "source": []
  },
  {
   "cell_type": "code",
   "execution_count": null,
   "metadata": {},
   "outputs": [],
   "source": []
=======
>>>>>>> 34d075b2fb1c698bb12d33dab566230ffbd62e0e
  }
 ],
 "metadata": {
  "kernelspec": {
   "display_name": "Python 3",
   "language": "python",
   "name": "python3"
  },
  "language_info": {
   "codemirror_mode": {
    "name": "ipython",
    "version": 3
   },
   "file_extension": ".py",
   "mimetype": "text/x-python",
   "name": "python",
   "nbconvert_exporter": "python",
   "pygments_lexer": "ipython3",
   "version": "3.11.3"
  },
  "orig_nbformat": 4
 },
 "nbformat": 4,
 "nbformat_minor": 2
}
