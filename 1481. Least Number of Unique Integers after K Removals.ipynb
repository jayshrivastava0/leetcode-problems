{
 "cells": [
  {
   "cell_type": "markdown",
   "metadata": {},
   "source": [
    "# 1481. Least Number of Unique Integers after K Removals\n",
    "\n",
    "#### Given an array of integers arr and an integer k. Find the least number of unique integers after removing exactly k elements.\n",
    "\n",
    " \n",
    "\n",
    "Example 1:\n",
    "\n",
    "Input: arr = [5,5,4], k = 1\n",
    "Output: 1\n",
    "Explanation: Remove the single 4, only 5 is left.\n",
    "Example 2:\n",
    "Input: arr = [4,3,1,1,3,3,2], k = 3\n",
    "Output: 2\n",
    "Explanation: Remove 4, 2 and either one of the two 1s or three 3s. 1 and 3 will be left.\n",
    " \n",
    "\n",
    "Constraints:\n",
    "\n",
    "1 <= arr.length <= 10^5\n",
    "1 <= arr[i] <= 10^9\n",
    "0 <= k <= arr.length"
   ]
  },
  {
   "cell_type": "code",
   "execution_count": 3,
   "metadata": {},
   "outputs": [],
   "source": [
    "import collections\n",
    "def findLeastNumOfUniqueInts(arr: list[int], k: int) -> int:\n",
    "    ## Brute Force\n",
    "    elements_count = collections.Counter(arr)\n",
    "    elements_frequency_sorted = sorted(elements_count.values())\n",
    "    counter = 0\n",
    "    ## Now we will delete the element with lowest count\n",
    "    for i, value in enumerate(elements_frequency_sorted):\n",
    "        if k > elements_frequency_sorted[i]:\n",
    "            k -= elements_frequency_sorted[i]\n",
    "            elements_frequency_sorted[i] = 0\n",
    "        else :\n",
    "            elements_frequency_sorted[i] -= k\n",
    "            k = 0\n",
    "        if elements_frequency_sorted[i] != 0:\n",
    "            counter += 1\n",
    "    return counter\n"
   ]
  },
  {
   "cell_type": "code",
   "execution_count": 4,
   "metadata": {},
   "outputs": [
    {
     "data": {
      "text/plain": [
       "2"
      ]
     },
     "execution_count": 4,
     "metadata": {},
     "output_type": "execute_result"
    }
   ],
   "source": [
    "arr = [4,3,1,1,3,3,2]\n",
    "k = 3\n",
    "findLeastNumOfUniqueInts(arr,k)"
   ]
  }
 ],
 "metadata": {
  "kernelspec": {
   "display_name": "Python 3",
   "language": "python",
   "name": "python3"
  },
  "language_info": {
   "codemirror_mode": {
    "name": "ipython",
    "version": 3
   },
   "file_extension": ".py",
   "mimetype": "text/x-python",
   "name": "python",
   "nbconvert_exporter": "python",
   "pygments_lexer": "ipython3",
   "version": "3.12.0"
  }
 },
 "nbformat": 4,
 "nbformat_minor": 2
}
