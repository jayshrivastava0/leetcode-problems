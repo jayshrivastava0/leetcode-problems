{
 "cells": [
  {
   "cell_type": "markdown",
   "metadata": {},
   "source": [
    "# 40. Combination Sum II\n",
    "\n",
    "Given a collection of candidate numbers (candidates) and a target number (target), find all unique combinations in candidates where the candidate numbers sum to target.\n",
    "\n",
    "Each number in candidates may only be used once in the combination.\n",
    "\n",
    "Note: The solution set must not contain duplicate combinations.\n",
    "\n",
    " \n",
    "\n",
    "Example 1:\n",
    "\n",
    "Input: candidates = [10,1,2,7,6,1,5], target = 8\n",
    "Output: \n",
    "[\n",
    "[1,1,6],\n",
    "[1,2,5],\n",
    "[1,7],\n",
    "[2,6]\n",
    "]\n",
    "Example 2:\n",
    "\n",
    "Input: candidates = [2,5,2,1,2], target = 5\n",
    "Output: \n",
    "[\n",
    "[1,2,2],\n",
    "[5]\n",
    "]\n",
    " \n",
    "\n",
    "Constraints:\n",
    "\n",
    "1 <= candidates.length <= 100\n",
    "1 <= candidates[i] <= 50\n",
    "1 <= target <= 30"
   ]
  },
  {
   "cell_type": "code",
   "execution_count": 15,
   "metadata": {},
   "outputs": [],
   "source": [
    "def combinationSum2(candidates: list[int], target: int) -> list[list[int]]:\n",
    "    candidates.sort()\n",
    "    stack=[]\n",
    "    ans=[]\n",
    "    def com2(ind,target):\n",
    "        if target==0:\n",
    "            ans.append(stack[:])\n",
    "            return\n",
    "        for i in range(ind,len(candidates)):\n",
    "            if i>ind and candidates[i]==candidates[i-1]:\n",
    "                continue\n",
    "            if candidates[i]<=target:\n",
    "                stack.append(candidates[i])\n",
    "                com2(i+1,target-candidates[i])\n",
    "                stack.pop()\n",
    "            else:\n",
    "                break\n",
    "\n",
    "    com2(0,target)\n",
    "    return ans"
   ]
  },
  {
   "cell_type": "code",
   "execution_count": 16,
   "metadata": {},
   "outputs": [
    {
     "data": {
      "text/plain": [
       "[[1, 2, 2], [5]]"
      ]
     },
     "execution_count": 16,
     "metadata": {},
     "output_type": "execute_result"
    }
   ],
   "source": [
    "candidates = [2,5,2,1,2]\n",
    "target = 5\n",
    "combinationSum2(candidates,target)"
   ]
  },
  {
   "cell_type": "code",
   "execution_count": 39,
   "metadata": {},
   "outputs": [],
   "source": [
    "def combinationSum2(candidates: list[int], target: int) -> list[list[int]]:\n",
    "    candidates.sort()\n",
    "    result = []\n",
    "    curr_path = []\n",
    "    \n",
    "    def recursive_backtrack(curr_idx, target):\n",
    "        if target == 0:\n",
    "            result.append(curr_path.copy())\n",
    "            return\n",
    "\n",
    "        for i in range(curr_idx, len(candidates)):\n",
    "            if i>curr_idx and candidates[i] == candidates[i-1]:\n",
    "                continue\n",
    "            if candidates[i] <= target:\n",
    "                curr_path.append(candidates[i])\n",
    "                recursive_backtrack(i+1, target-candidates[i])\n",
    "                curr_path.pop()\n",
    "            else:\n",
    "                break\n",
    "    recursive_backtrack(0, target)\n",
    "    return result"
   ]
  },
  {
   "cell_type": "code",
   "execution_count": 40,
   "metadata": {},
   "outputs": [
    {
     "data": {
      "text/plain": [
       "[[1, 2, 2], [5]]"
      ]
     },
     "execution_count": 40,
     "metadata": {},
     "output_type": "execute_result"
    }
   ],
   "source": [
    "candidates = [2,5,2,1,2]\n",
    "target = 5\n",
    "combinationSum2(candidates,target)"
   ]
  },
  {
   "cell_type": "code",
   "execution_count": null,
   "metadata": {},
   "outputs": [],
   "source": []
  }
 ],
 "metadata": {
  "kernelspec": {
   "display_name": "Python 3",
   "language": "python",
   "name": "python3"
  },
  "language_info": {
   "codemirror_mode": {
    "name": "ipython",
    "version": 3
   },
   "file_extension": ".py",
   "mimetype": "text/x-python",
   "name": "python",
   "nbconvert_exporter": "python",
   "pygments_lexer": "ipython3",
   "version": "3.11.8"
  }
 },
 "nbformat": 4,
 "nbformat_minor": 2
}
